{
 "cells": [
  {
   "cell_type": "markdown",
   "metadata": {},
   "source": [
    "### Машинное Обучения\n",
    "\n",
    "## Домашнее задание №2 - Дерево решений"
   ]
  },
  {
   "cell_type": "markdown",
   "metadata": {},
   "source": [
    "**Общая информация**\n",
    "\n",
    "**Срок сдачи:** 21 ноября 2023, 08:30   \n",
    "**Штраф за опоздание:** -2 балла за каждые 2 дня опоздания\n",
    "\n",
    "Решений залить в свой github репозиторий.\n",
    "\n",
    "Используйте данный Ipython Notebook при оформлении домашнего задания."
   ]
  },
  {
   "cell_type": "markdown",
   "metadata": {},
   "source": [
    "##  Реализуем дерево решений (3 балла)"
   ]
  },
  {
   "cell_type": "markdown",
   "metadata": {},
   "source": [
    "Допишите недостающие части дерева решений. Ваша реализация дерева должна работать по точности не хуже DecisionTreeClassifier из sklearn.\n",
    "Внимание: если Вас не устраивает предложенная структура хранения дерева, Вы без потери баллов можете сделать свой класс MyDecisionTreeClassifier, в котором сами полностью воспроизведете алгоритм дерева решений. Обязательно в нем иметь только функции fit, predict . (Но название класса не менять)"
   ]
  },
  {
   "cell_type": "code",
   "execution_count": 33,
   "metadata": {
    "jupyter": {
     "outputs_hidden": true
    }
   },
   "outputs": [],
   "source": [
    "import copy\n",
    "import matplotlib.pyplot as plt\n",
    "import numpy as np\n",
    "import pandas as pd\n",
    "\n",
    "from sklearn.datasets import load_wine\n",
    "from sklearn.ensemble import RandomForestClassifier\n",
    "from sklearn.metrics import accuracy_score\n",
    "from sklearn.model_selection import KFold, train_test_split, GridSearchCV, RandomizedSearchCV\n",
    "from sklearn.tree import DecisionTreeClassifier"
   ]
  },
  {
   "cell_type": "code",
   "execution_count": 302,
   "metadata": {},
   "outputs": [],
   "source": [
    "class MyDecisionTreeClassifier:\n",
    "    NON_LEAF_TYPE = 0\n",
    "    LEAF_TYPE = 1\n",
    "\n",
    "    def __init__(self, min_samples_split=2, max_depth=5, criterion='gini'):\n",
    "        \"\"\"\n",
    "        criterion -- критерий расщепления. необходимо релизовать три:\n",
    "        Ошибка классификации, Индекс Джини, Энтропийный критерий\n",
    "        max_depth -- максимальная глубина дерева\n",
    "        min_samples_split -- минимальное число объектов в листе, чтобы сделать новый сплит\n",
    "        \"\"\"\n",
    "        self.min_samples_split = min_samples_split\n",
    "        self.max_depth = max_depth\n",
    "        self.num_class = -1\n",
    "        # Для последнего задания\n",
    "        self.feature_importances_ = {}\n",
    "        self.criterion = criterion\n",
    "        # Структура, которая описывает дерево\n",
    "        # Представляет словарь, где для  node_id (айдишник узла дерева) храним\n",
    "        # (тип_узла, айдишник признака сплита, порог сплита) если тип NON_LEAF_TYPE\n",
    "        # (тип_узла, предсказание класса, вероятность класса) если тип LEAF_TYPE\n",
    "        # Подразумевается, что у каждого node_id в дереве слева \n",
    "        # узел с айди 2 * node_id + 1, а справа 2 * node_id + 2\n",
    "        self.tree = dict()\n",
    "\n",
    "    def __div_samples(self, x, y, feature_id, threshold):\n",
    "        \"\"\"\n",
    "        Разделяет объекты на 2 множества\n",
    "        x -- матрица объектов\n",
    "        y -- вектор ответов\n",
    "        feature_id -- айдишник признака, по которому делаем сплит\n",
    "        threshold -- порог, по которому делаем сплит\n",
    "        \"\"\"\n",
    "        left_mask = x[:, feature_id] > threshold\n",
    "        right_mask = ~left_mask\n",
    "        return x[left_mask], x[right_mask], y[left_mask], y[right_mask]\n",
    "\n",
    "    def __gini(self, x, y):\n",
    "        all_objects_classes = np.sum(y, axis=0)\n",
    "        all_objects = float(np.sum(all_objects_classes))\n",
    "        \n",
    "        cum_y = np.cumsum(y, axis=0)[:-1]\n",
    "        \n",
    "        left_y = copy.copy(cum_y)\n",
    "        right_y = all_objects_classes - cum_y\n",
    "        \n",
    "        left_count = np.sum(left_y, axis=1, keepdims=True)\n",
    "        right_count = np.sum(right_y, axis=1, keepdims=True)\n",
    "        \n",
    "        l_probas = left_y / left_count\n",
    "        r_probas = right_y / right_count\n",
    "        \n",
    "        left_impurity = np.sum(-l_probas * np.log(l_probas + 1e-6), axis=1, keepdims=True)\n",
    "        right_impurity = np.sum(-r_probas * np.log(r_probas + 1e-6), axis=1, keepdims=True)\n",
    "        \n",
    "        impurity = left_impurity * left_count / all_objects + right_impurity * right_count / all_objects \n",
    "        \n",
    "        idx = np.argmin(impurity)\n",
    "        \n",
    "        return idx, (x[idx] + x[idx + 1]) / 2.0, -impurity[idx]\n",
    "        \n",
    "    def __entropy(self, x, y):\n",
    "        all_objects_classes = np.sum(y, axis=0)\n",
    "        all_objects = float(np.sum(all_objects_classes))\n",
    "        \n",
    "        cum_y = np.cumsum(y, axis=0)[:-1]\n",
    "        \n",
    "        left_y = copy.copy(cum_y)\n",
    "        right_y = all_objects_classes - cum_y\n",
    "        \n",
    "        left_count = np.sum(left_y, axis=1, keepdims=True)\n",
    "        right_count = np.sum(right_y, axis=1, keepdims=True)\n",
    "        \n",
    "        l_probas = left_y / left_count\n",
    "        r_probas = right_y / right_count\n",
    "        \n",
    "        left_impurity = np.sum(l_probas * (1 - l_probas), axis=1, keepdims=True)\n",
    "        right_impurity = np.sum(r_probas * (1 - r_probas), axis=1, keepdims=True)\n",
    "        \n",
    "        impurity = left_impurity * left_count / all_objects + right_impurity * right_count / all_objects \n",
    "        \n",
    "        idx = np.argmin(impurity)\n",
    "        \n",
    "        return idx, (x[idx] + x[idx + 1]) / 2.0, -impurity[idx]\n",
    "        \n",
    "    \n",
    "    def __find_threshold(self, x, y):\n",
    "        \"\"\"\n",
    "        Находим оптимальный признак и порог для сплита\n",
    "        Здесь используемые разные impurity в зависимости от self.criterion\n",
    "        \"\"\"\n",
    "        \n",
    "        max_impurity = float(\"-inf\")\n",
    "        best_feature_idx = -1\n",
    "        best_thr = None\n",
    "        \n",
    "        for feature_idx in range(x.shape[1]):\n",
    "            sorted_idxs = np.argsort(x[:, feature_idx])\n",
    "            sorted_x = x[sorted_idxs, feature_idx]\n",
    "            sorted_y = y[sorted_idxs]\n",
    "            \n",
    "            unique_y = []\n",
    "            unique_thr = []\n",
    "            last_thr = None\n",
    "            for thr, label in zip(sorted_x, sorted_y):\n",
    "                \n",
    "                ohe_vector = np.zeros(self.num_class)\n",
    "                ohe_vector[label] = 1\n",
    "                if last_thr is not None and thr == last_thr:\n",
    "                    unique_y[-1] += ohe_vector\n",
    "                else:\n",
    "                    unique_thr.append(thr)\n",
    "                    unique_y.append(ohe_vector)\n",
    "                \n",
    "                last_thr = thr\n",
    "            \n",
    "            unique_thr = np.array(unique_thr)\n",
    "            unique_y = np.vstack(unique_y)            \n",
    "            n_uniques = unique_thr.shape[0]\n",
    "            if n_uniques == 1:\n",
    "                cur_impurity = float(\"-inf\")\n",
    "                cur_feature_idx = feature_idx\n",
    "                cur_thr = unique_thr[0]\n",
    "                \n",
    "            else:\n",
    "                if self.criterion == 'gini':\n",
    "                    thr_idx, cur_thr, cur_impurity = self.__gini(unique_thr, unique_y)\n",
    "                elif self.criterion == 'entropy':\n",
    "                    thr_idx, cur_thr, cur_impurity = self.__entropy(unique_thr, unique_y)\n",
    "                cur_feature_idx = feature_idx\n",
    "                \n",
    "            if cur_impurity > max_impurity:\n",
    "                max_impurity = cur_impurity\n",
    "                best_feature_idx = cur_feature_idx\n",
    "                best_thr = cur_thr\n",
    "                \n",
    "        if best_thr is not None:\n",
    "            if best_feature_idx not in self.feature_importances_:\n",
    "                self.feature_importances_[best_feature_idx] = 0\n",
    "            self.feature_importances_[best_feature_idx] += max_impurity\n",
    "            \n",
    "        return best_thr, best_feature_idx\n",
    "        \n",
    "\n",
    "    def __fit_node(self, x, y, node_id, depth):\n",
    "        \"\"\"\n",
    "        Делаем новый узел в дереве\n",
    "        Решаем, терминальный он или нет\n",
    "        Если нет, то строим левый узел  с айди 2 * node_id + 1\n",
    "        И правый узел с  айди 2 * node_id + 2\n",
    "        \"\"\"\n",
    "        if depth == self.max_depth or x.shape[0] < self.min_samples_split:\n",
    "            unique, counts = np.unique(y, return_counts=True)\n",
    "\n",
    "            y_idx = np.argmax(counts)\n",
    "            proba = counts / np.sum(counts)\n",
    "            self.tree[node_id] = (self.__class__.LEAF_TYPE, unique[y_idx], proba[y_idx])\n",
    "            return\n",
    "            \n",
    "        split, f_id = self.__find_threshold(x, y)\n",
    "        if split is None:\n",
    "            unique, counts = np.unique(y, return_counts=True)\n",
    "\n",
    "            y_idx = np.argmax(counts)\n",
    "            proba = counts / np.sum(counts)\n",
    "            self.tree[node_id] = (self.__class__.LEAF_TYPE, unique[y_idx], proba[y_idx])\n",
    "            return\n",
    "        \n",
    "        self.tree[node_id] = (self.__class__.NON_LEAF_TYPE, f_id, split)\n",
    "        \n",
    "        lx, rx, ly, ry = self.__div_samples(x, y, f_id, split)\n",
    "        \n",
    "        self.__fit_node(lx, ly, node_id * 2 + 1, depth + 1)\n",
    "        self.__fit_node(rx, ry, node_id * 2 + 2, depth + 1)\n",
    "    \n",
    "    def fit(self, x, y):\n",
    "        \"\"\"\n",
    "        Рекурсивно строим дерево решений\n",
    "        Начинаем с корня node_id 0\n",
    "        \"\"\"\n",
    "        self.num_class = np.unique(y).size\n",
    "        self.__fit_node(x, y, 0, 0) \n",
    "        \n",
    "        sum_importance = sum(self.feature_importances_.values())\n",
    "        for key, value in self.feature_importances_.items():\n",
    "            self.feature_importances_[key] = (value / sum_importance)[0]\n",
    "\n",
    "    def __predict_class(self, x, node_id):\n",
    "        \"\"\"\n",
    "        Рекурсивно обходим дерево по всем узлам,\n",
    "        пока не дойдем до терминального\n",
    "        \"\"\"\n",
    "        node = self.tree[node_id]\n",
    "        if node[0] == self.__class__.NON_LEAF_TYPE:\n",
    "            _, feature_id, threshold = node\n",
    "            if x[feature_id] > threshold:\n",
    "                return self.__predict_class(x, 2 * node_id + 1)\n",
    "            else:\n",
    "                return self.__predict_class(x, 2 * node_id + 2)\n",
    "        else:\n",
    "            return node[1]\n",
    "        \n",
    "    def predict(self, X):\n",
    "        \"\"\"\n",
    "        Вызывает predict для всех объектов из матрицы X\n",
    "        \"\"\"\n",
    "        return np.array([self.__predict_class(x, 0) for x in X])\n",
    "    \n",
    "    def fit_predict(self, x_train, y_train, predicted_x):\n",
    "        self.fit(x_train, y_train)\n",
    "        return self.predict(predicted_x)\n",
    "    \n",
    "    def get_feature_importance(self):\n",
    "        \"\"\"\n",
    "        Возвращает важность признаков\n",
    "        \"\"\"\n",
    "        return self.feature_importances_"
   ]
  },
  {
   "cell_type": "code",
   "execution_count": 117,
   "metadata": {},
   "outputs": [],
   "source": [
    "wine = load_wine()\n",
    "X_train, X_test, y_train, y_test = train_test_split(wine.data, wine.target, test_size=0.1, stratify=wine.target)"
   ]
  },
  {
   "cell_type": "code",
   "execution_count": 118,
   "metadata": {},
   "outputs": [],
   "source": [
    "my_clf = MyDecisionTreeClassifier(min_samples_split=2)\n",
    "clf = DecisionTreeClassifier(min_samples_split=2)\n",
    "clf.fit(X_train, y_train)\n",
    "my_clf.fit(X_train, y_train)"
   ]
  },
  {
   "cell_type": "code",
   "execution_count": 119,
   "metadata": {},
   "outputs": [
    {
     "name": "stdout",
     "output_type": "stream",
     "text": [
      "0.8888888888888888\n",
      "0.9444444444444444\n"
     ]
    }
   ],
   "source": [
    "print(accuracy_score(y_pred=clf.predict(X_test), y_true=y_test))\n",
    "print(accuracy_score(y_pred=my_clf.predict(X_test), y_true=y_test))"
   ]
  },
  {
   "cell_type": "markdown",
   "metadata": {},
   "source": [
    "Совет: Проверьте, что ваша реализация корректно работает с признаками в которых встречаются повторы. \n",
    "И подумайте, какие еще граничные случаи могут быть.\n",
    "Например, проверьте, что на таком примере ваша модель корректно работает:"
   ]
  },
  {
   "cell_type": "code",
   "execution_count": 301,
   "metadata": {},
   "outputs": [
    {
     "name": "stdout",
     "output_type": "stream",
     "text": [
      "-inf 0 1\n",
      "[-0.41878701] 1 2.5\n",
      "DEPTH: 1 \n",
      "\t\tTree: {0: (0, 1, 2.5), 1: (1, 1, 0.7142857142857143), 2: (1, 0, 1.0)} [0 0 0 1 1 1 1 1 1 1]\n"
     ]
    }
   ],
   "source": [
    "X = np.array([[1] * 10, [0, 1, 2, 5, 6, 3, 4, 7, 8, 9]]).T\n",
    "y = np.array([0, 0, 0, 0, 0, 1, 1, 1, 1, 1])\n",
    "for depth in range(1, 2):\n",
    "    my_clf = MyDecisionTreeClassifier(max_depth=depth)\n",
    "    my_clf.fit(X, y)\n",
    "    print(\"DEPTH:\", depth, \"\\n\\t\\tTree:\", my_clf.tree, my_clf.predict(X))"
   ]
  },
  {
   "cell_type": "markdown",
   "metadata": {},
   "source": [
    "## Ускоряем дерево решений (2 балла)\n",
    "Добиться скорости работы на fit не медленнее чем в 10 раз sklearn на данных wine. \n",
    "Для этого используем numpy."
   ]
  },
  {
   "cell_type": "code",
   "execution_count": 123,
   "metadata": {
    "scrolled": true
   },
   "outputs": [
    {
     "name": "stdout",
     "output_type": "stream",
     "text": [
      "CPU times: user 638 µs, sys: 2.05 ms, total: 2.69 ms\n",
      "Wall time: 1.88 ms\n"
     ]
    },
    {
     "data": {
      "text/html": [
       "<style>#sk-container-id-1 {color: black;}#sk-container-id-1 pre{padding: 0;}#sk-container-id-1 div.sk-toggleable {background-color: white;}#sk-container-id-1 label.sk-toggleable__label {cursor: pointer;display: block;width: 100%;margin-bottom: 0;padding: 0.3em;box-sizing: border-box;text-align: center;}#sk-container-id-1 label.sk-toggleable__label-arrow:before {content: \"▸\";float: left;margin-right: 0.25em;color: #696969;}#sk-container-id-1 label.sk-toggleable__label-arrow:hover:before {color: black;}#sk-container-id-1 div.sk-estimator:hover label.sk-toggleable__label-arrow:before {color: black;}#sk-container-id-1 div.sk-toggleable__content {max-height: 0;max-width: 0;overflow: hidden;text-align: left;background-color: #f0f8ff;}#sk-container-id-1 div.sk-toggleable__content pre {margin: 0.2em;color: black;border-radius: 0.25em;background-color: #f0f8ff;}#sk-container-id-1 input.sk-toggleable__control:checked~div.sk-toggleable__content {max-height: 200px;max-width: 100%;overflow: auto;}#sk-container-id-1 input.sk-toggleable__control:checked~label.sk-toggleable__label-arrow:before {content: \"▾\";}#sk-container-id-1 div.sk-estimator input.sk-toggleable__control:checked~label.sk-toggleable__label {background-color: #d4ebff;}#sk-container-id-1 div.sk-label input.sk-toggleable__control:checked~label.sk-toggleable__label {background-color: #d4ebff;}#sk-container-id-1 input.sk-hidden--visually {border: 0;clip: rect(1px 1px 1px 1px);clip: rect(1px, 1px, 1px, 1px);height: 1px;margin: -1px;overflow: hidden;padding: 0;position: absolute;width: 1px;}#sk-container-id-1 div.sk-estimator {font-family: monospace;background-color: #f0f8ff;border: 1px dotted black;border-radius: 0.25em;box-sizing: border-box;margin-bottom: 0.5em;}#sk-container-id-1 div.sk-estimator:hover {background-color: #d4ebff;}#sk-container-id-1 div.sk-parallel-item::after {content: \"\";width: 100%;border-bottom: 1px solid gray;flex-grow: 1;}#sk-container-id-1 div.sk-label:hover label.sk-toggleable__label {background-color: #d4ebff;}#sk-container-id-1 div.sk-serial::before {content: \"\";position: absolute;border-left: 1px solid gray;box-sizing: border-box;top: 0;bottom: 0;left: 50%;z-index: 0;}#sk-container-id-1 div.sk-serial {display: flex;flex-direction: column;align-items: center;background-color: white;padding-right: 0.2em;padding-left: 0.2em;position: relative;}#sk-container-id-1 div.sk-item {position: relative;z-index: 1;}#sk-container-id-1 div.sk-parallel {display: flex;align-items: stretch;justify-content: center;background-color: white;position: relative;}#sk-container-id-1 div.sk-item::before, #sk-container-id-1 div.sk-parallel-item::before {content: \"\";position: absolute;border-left: 1px solid gray;box-sizing: border-box;top: 0;bottom: 0;left: 50%;z-index: -1;}#sk-container-id-1 div.sk-parallel-item {display: flex;flex-direction: column;z-index: 1;position: relative;background-color: white;}#sk-container-id-1 div.sk-parallel-item:first-child::after {align-self: flex-end;width: 50%;}#sk-container-id-1 div.sk-parallel-item:last-child::after {align-self: flex-start;width: 50%;}#sk-container-id-1 div.sk-parallel-item:only-child::after {width: 0;}#sk-container-id-1 div.sk-dashed-wrapped {border: 1px dashed gray;margin: 0 0.4em 0.5em 0.4em;box-sizing: border-box;padding-bottom: 0.4em;background-color: white;}#sk-container-id-1 div.sk-label label {font-family: monospace;font-weight: bold;display: inline-block;line-height: 1.2em;}#sk-container-id-1 div.sk-label-container {text-align: center;}#sk-container-id-1 div.sk-container {/* jupyter's `normalize.less` sets `[hidden] { display: none; }` but bootstrap.min.css set `[hidden] { display: none !important; }` so we also need the `!important` here to be able to override the default hidden behavior on the sphinx rendered scikit-learn.org. See: https://github.com/scikit-learn/scikit-learn/issues/21755 */display: inline-block !important;position: relative;}#sk-container-id-1 div.sk-text-repr-fallback {display: none;}</style><div id=\"sk-container-id-1\" class=\"sk-top-container\"><div class=\"sk-text-repr-fallback\"><pre>DecisionTreeClassifier()</pre><b>In a Jupyter environment, please rerun this cell to show the HTML representation or trust the notebook. <br />On GitHub, the HTML representation is unable to render, please try loading this page with nbviewer.org.</b></div><div class=\"sk-container\" hidden><div class=\"sk-item\"><div class=\"sk-estimator sk-toggleable\"><input class=\"sk-toggleable__control sk-hidden--visually\" id=\"sk-estimator-id-1\" type=\"checkbox\" checked><label for=\"sk-estimator-id-1\" class=\"sk-toggleable__label sk-toggleable__label-arrow\">DecisionTreeClassifier</label><div class=\"sk-toggleable__content\"><pre>DecisionTreeClassifier()</pre></div></div></div></div></div>"
      ],
      "text/plain": [
       "DecisionTreeClassifier()"
      ]
     },
     "execution_count": 123,
     "metadata": {},
     "output_type": "execute_result"
    }
   ],
   "source": [
    "%time clf.fit(X_train, y_train)"
   ]
  },
  {
   "cell_type": "code",
   "execution_count": 124,
   "metadata": {},
   "outputs": [
    {
     "name": "stdout",
     "output_type": "stream",
     "text": [
      "CPU times: user 7.92 ms, sys: 2.9 ms, total: 10.8 ms\n",
      "Wall time: 10.3 ms\n"
     ]
    }
   ],
   "source": [
    "%time my_clf.fit(X_train, y_train)"
   ]
  },
  {
   "cell_type": "markdown",
   "metadata": {},
   "source": [
    "## Боевое применение (3 балла)\n",
    "\n",
    "На практике Вы познакомились с датасетом Speed Dating Data. В нем каждая пара в быстрых свиданиях характеризуется определенным набором признаков. Задача -- предсказать, произойдет ли матч пары (колонка match). \n",
    "\n",
    "Данные и описания колонок во вложениях.\n",
    "\n",
    "Пример работы с датасетом можете найти в практике пункт 2\n",
    "https://github.com/VVVikulin/ml1.sphere/blob/master/2019-09/lecture_06/pract-trees.ipynb\n",
    "\n",
    "Либо воспользоваться функцией:"
   ]
  },
  {
   "cell_type": "code",
   "execution_count": 125,
   "metadata": {},
   "outputs": [],
   "source": [
    "def preprocess_spd_data(df):\n",
    "    df = df.iloc[:, :97]\n",
    "    \n",
    "    to_drop = [\n",
    "        'id', 'idg', 'condtn', 'round', 'position', 'positin1', 'order', 'partner', \n",
    "        'age_o', 'race_o', 'pf_o_att', 'pf_o_sin', 'pf_o_int', 'pf_o_fun', 'pf_o_amb', 'pf_o_sha',\n",
    "        'dec_o', 'attr_o', 'sinc_o', 'intel_o', 'fun_o', 'amb_o', 'shar_o', 'like_o', 'prob_o','met_o',\n",
    "        'field', 'undergra', 'from', 'zipcode', 'income', 'career', 'sports', 'tvsports', 'exercise', \n",
    "        'dining', 'museums', 'art', 'hiking', 'gaming', 'clubbing', 'reading', 'tv', 'theater', 'movies', \n",
    "        'concerts', 'music', 'shopping', 'yoga', 'expnum',\n",
    "        'mn_sat', 'tuition'\n",
    "    ]\n",
    "\n",
    "    df = df.drop(to_drop, axis=1)\n",
    "    df = df.dropna(subset=['age', 'imprelig', 'imprace', 'date'])\n",
    "\n",
    "    df.loc[:, 'field_cd'] = df.loc[:, 'field_cd'].fillna(19)\n",
    "    df.loc[:, 'career_c'] = df.loc[:, 'career_c'].fillna(18)\n",
    "    \n",
    "    # attr1 processing\n",
    "    df.loc[:, 'temp_totalsum'] = df.loc[:, ['attr1_1', 'sinc1_1', 'intel1_1', 'fun1_1', \n",
    "                                            'amb1_1', 'shar1_1']].sum(axis=1)\n",
    "    df.loc[:, ['attr1_1', 'sinc1_1', 'intel1_1', 'fun1_1', 'amb1_1', 'shar1_1']] =\\\n",
    "    (df.loc[:, ['attr1_1', 'sinc1_1', 'intel1_1', 'fun1_1', 'amb1_1', 'shar1_1']].T / \n",
    "     df.loc[:, 'temp_totalsum'].T).T * 100\n",
    "    \n",
    "    # attr2 processing\n",
    "    df.loc[:, 'temp_totalsum'] = df.loc[:, ['attr2_1', 'sinc2_1', 'intel2_1', 'fun2_1', \n",
    "                                            'amb2_1', 'shar2_1']].sum(axis=1)\n",
    "    df.loc[:, ['attr2_1', 'sinc2_1', 'intel2_1', 'fun2_1', 'amb2_1', 'shar2_1']] =\\\n",
    "    (df.loc[:, ['attr2_1', 'sinc2_1', 'intel2_1', 'fun2_1', 'amb2_1', 'shar2_1']].T / \n",
    "     df.loc[:, 'temp_totalsum'].T).T * 100\n",
    "    df = df.drop(['temp_totalsum'], axis=1)\n",
    "    \n",
    "    for i in [4, 5]:\n",
    "        feat = ['attr{}_1'.format(i), 'sinc{}_1'.format(i), \n",
    "                'intel{}_1'.format(i), 'fun{}_1'.format(i), \n",
    "                'amb{}_1'.format(i), 'shar{}_1'.format(i)]\n",
    "\n",
    "        if i != 4:\n",
    "            feat.remove('shar{}_1'.format(i))\n",
    "    \n",
    "        df = df.drop(feat, axis=1)\n",
    "    \n",
    "    df = df.drop(['wave'], axis=1)\n",
    "    df = df.dropna()\n",
    "    return df"
   ]
  },
  {
   "cell_type": "markdown",
   "metadata": {},
   "source": [
    "Скачайте датасет, обработайте данные, как показано на семинаре или своим собственным способом. Обучите дерево классифкации. В качестве таргета возьмите колонку 'match'. Постарайтесь хорошо обработать признаки, чтобы выбить максимальную точность. Если точность будет близка к случайному гаданию, задание не будет защитано. В качестве метрики можно взять roc-auc. \n"
   ]
  },
  {
   "cell_type": "code",
   "execution_count": 200,
   "metadata": {},
   "outputs": [],
   "source": [
    "import pandas as pd\n",
    "data = pd.read_csv(\"/home/emperornao/Downloads/Speed Dating Data.csv\", encoding='latin1')"
   ]
  },
  {
   "cell_type": "code",
   "execution_count": 201,
   "metadata": {},
   "outputs": [],
   "source": [
    "data = preprocess_spd_data(data)"
   ]
  },
  {
   "cell_type": "code",
   "execution_count": 204,
   "metadata": {},
   "outputs": [],
   "source": [
    "target = 'match'"
   ]
  },
  {
   "cell_type": "code",
   "execution_count": 206,
   "metadata": {},
   "outputs": [],
   "source": [
    "X, y = data.loc[:, data.columns != target].values, data[target].values"
   ]
  },
  {
   "cell_type": "code",
   "execution_count": 207,
   "metadata": {},
   "outputs": [
    {
     "name": "stdout",
     "output_type": "stream",
     "text": [
      "(8104, 32) (8104,)\n"
     ]
    }
   ],
   "source": [
    "print(X.shape, y.shape)"
   ]
  },
  {
   "cell_type": "code",
   "execution_count": 208,
   "metadata": {},
   "outputs": [],
   "source": [
    "from sklearn.metrics import roc_auc_score"
   ]
  },
  {
   "cell_type": "code",
   "execution_count": 209,
   "metadata": {},
   "outputs": [],
   "source": [
    "my_clf = MyDecisionTreeClassifier(max_depth=6)\n",
    "my_clf.fit(X, y)"
   ]
  },
  {
   "cell_type": "code",
   "execution_count": 210,
   "metadata": {},
   "outputs": [
    {
     "data": {
      "text/plain": [
       "0.8110851990049751"
      ]
     },
     "execution_count": 210,
     "metadata": {},
     "output_type": "execute_result"
    }
   ],
   "source": [
    "roc_auc_score(my_clf.predict(X), y)"
   ]
  },
  {
   "cell_type": "markdown",
   "metadata": {},
   "source": [
    "0.81 выглядит +- для выученного train'a"
   ]
  },
  {
   "cell_type": "markdown",
   "metadata": {},
   "source": [
    "Разбейте датасет на трейн и валидацию. Подберите на валидации оптимальный критерий  информативности. \n",
    "Постройте графики зависимости точности на валидации и трейне от глубины дерева, от минимального числа объектов для сплита. (Т.е должно быть 2 графика, на каждой должны быть 2 кривые - для трейна и валидации)\n",
    "Какой максимальной точности удалось достигнуть?"
   ]
  },
  {
   "cell_type": "code",
   "execution_count": 211,
   "metadata": {
    "jupyter": {
     "outputs_hidden": true
    }
   },
   "outputs": [],
   "source": [
    "from sklearn.model_selection import train_test_split"
   ]
  },
  {
   "cell_type": "code",
   "execution_count": 212,
   "metadata": {
    "jupyter": {
     "outputs_hidden": true
    }
   },
   "outputs": [],
   "source": [
    "X_train, X_test, y_train, y_test = train_test_split(X, y, train_size=0.8) "
   ]
  },
  {
   "cell_type": "code",
   "execution_count": 213,
   "metadata": {},
   "outputs": [
    {
     "name": "stdout",
     "output_type": "stream",
     "text": [
      "train.shape = (6483, 32), test.shape = (1621, 32)\n"
     ]
    }
   ],
   "source": [
    "print(f\"train.shape = {X_train.shape}, test.shape = {X_test.shape}\")"
   ]
  },
  {
   "cell_type": "code",
   "execution_count": 215,
   "metadata": {},
   "outputs": [
    {
     "name": "stdout",
     "output_type": "stream",
     "text": [
      "criterion = gini, score = 0.6812952328508496\n",
      "criterion = entropy, score = 0.6365885961243551\n"
     ]
    }
   ],
   "source": [
    "for criterion in ['gini', 'entropy']:\n",
    "    my_clf = MyDecisionTreeClassifier(max_depth=6, criterion=criterion)\n",
    "    my_clf.fit(X_train, y_train)\n",
    "    print(f\"criterion = {criterion}, score = {roc_auc_score(my_clf.predict(X_test), y_test)}\")"
   ]
  },
  {
   "cell_type": "code",
   "execution_count": 217,
   "metadata": {},
   "outputs": [],
   "source": [
    "BEST_CRITERION='gini'"
   ]
  },
  {
   "cell_type": "markdown",
   "metadata": {},
   "source": [
    "Используем gini"
   ]
  },
  {
   "cell_type": "code",
   "execution_count": 221,
   "metadata": {},
   "outputs": [],
   "source": [
    "depth_history = {'train': [], 'test': [], 'depth': []}\n",
    "for depth in range(3, 10):\n",
    "    depth_history['depth'].append(depth)\n",
    "    my_clf = MyDecisionTreeClassifier(max_depth=depth, criterion=BEST_CRITERION)\n",
    "    my_clf.fit(X_train, y_train)\n",
    "    \n",
    "    depth_history['train'].append(roc_auc_score(my_clf.predict(X_train), y_train))\n",
    "    depth_history['test'].append(roc_auc_score(my_clf.predict(X_test), y_test))"
   ]
  },
  {
   "cell_type": "code",
   "execution_count": 223,
   "metadata": {},
   "outputs": [
    {
     "data": {
      "image/png": "[encoded data removed]",
      "text/plain": [
       "<Figure size 432x288 with 1 Axes>"
      ]
     },
     "metadata": {
      "needs_background": "light"
     },
     "output_type": "display_data"
    }
   ],
   "source": [
    "plt.plot(depth_history['depth'], depth_history['train'], label='train')\n",
    "plt.plot(depth_history['depth'], depth_history['test'], label='test')\n",
    "plt.legend()\n",
    "plt.show()"
   ]
  },
  {
   "cell_type": "code",
   "execution_count": 236,
   "metadata": {},
   "outputs": [],
   "source": [
    "min_samples_history = {'train': [], 'test': [], 'min_samples': []}\n",
    "for min_samples_split in [1, 2, 3, 5, 10, 20, 50]:\n",
    "    \n",
    "    min_samples_history['min_samples'].append(min_samples_split)\n",
    "    my_clf = MyDecisionTreeClassifier(min_samples_split=min_samples_split, criterion=BEST_CRITERION)\n",
    "    my_clf.fit(X_train, y_train)\n",
    "    \n",
    "    min_samples_history['train'].append(roc_auc_score(my_clf.predict(X_train), y_train))\n",
    "    min_samples_history['test'].append(roc_auc_score(my_clf.predict(X_test), y_test))"
   ]
  },
  {
   "cell_type": "code",
   "execution_count": 237,
   "metadata": {},
   "outputs": [
    {
     "data": {
      "image/png": "[encoded data removed]",
      "text/plain": [
       "<Figure size 432x288 with 1 Axes>"
      ]
     },
     "metadata": {
      "needs_background": "light"
     },
     "output_type": "display_data"
    }
   ],
   "source": [
    "plt.plot(min_samples_history['min_samples'], min_samples_history['train'], label='train')\n",
    "plt.plot(min_samples_history['min_samples'], min_samples_history['test'], label='test')\n",
    "plt.legend()\n",
    "plt.show()"
   ]
  },
  {
   "cell_type": "markdown",
   "metadata": {},
   "source": [
    "Известным фактом является то, что деревья решений сильно переобучаются при увеличении глубины и просто запоминают трейн. \n",
    "Замечаете ли вы такой эффект судя по графикам? Что при этом происходит с качеством на валидации? "
   ]
  },
  {
   "cell_type": "markdown",
   "metadata": {},
   "source": [
    "На валидации качество падает, поэтому деревья с меньшей глубиной и бОльшим количеством \n",
    "минимальных элементов лучше обобщаются"
   ]
  },
  {
   "cell_type": "markdown",
   "metadata": {},
   "source": [
    "## Находим самые важные признаки (2 балла)\n",
    "\n"
   ]
  },
  {
   "cell_type": "markdown",
   "metadata": {},
   "source": [
    "По построенному дереву  легко понять, какие признаки лучше всего помогли решить задачу. Часто это бывает нужно  не только  для сокращения размерности в данных, но и для лучшего понимания прикладной задачи. Например, Вы хотите понять, какие признаки стоит еще конструировать -- для этого нужно понимать, какие из текущих лучше всего работают в дереве. "
   ]
  },
  {
   "cell_type": "markdown",
   "metadata": {},
   "source": [
    "Самый простой метод -- посчитать число сплитов, где использовался данные признак. Это не лучший вариант, так как по признаку который принимает всего 2 значения, но который почти точно разделяет выборку, число сплитов будет очень 1, но при этом признак сам очень хороший. \n",
    "В этом задании предлагается для каждого признака считать суммарный gain (в лекции обозначено как Q) при использовании этого признака в сплите. Тогда даже у очень хороших признаков с маленьким число сплитов это значение должно быть довольно высоким.  "
   ]
  },
  {
   "cell_type": "markdown",
   "metadata": {},
   "source": [
    "Реализовать это довольно просто: создаете словарь номер фичи : суммарный гейн и добавляете в нужную фичу каждый раз, когда используете ее при построении дерева. "
   ]
  },
  {
   "cell_type": "markdown",
   "metadata": {},
   "source": [
    "Добавьте функционал, который определяет значения feature importance. Обучите дерево на датасете Speed Dating Data.\n",
    "Выведите 10 главных фичей по важности."
   ]
  },
  {
   "cell_type": "code",
   "execution_count": 274,
   "metadata": {},
   "outputs": [
    {
     "name": "stdout",
     "output_type": "stream",
     "text": [
      "criterion = entropy, score = 0.6373641780581843\n"
     ]
    }
   ],
   "source": [
    "my_clf = MyDecisionTreeClassifier(max_depth=4, criterion=criterion)\n",
    "my_clf.fit(X_train, y_train)\n",
    "print(f\"criterion = {criterion}, score = {roc_auc_score(my_clf.predict(X_test), y_test)}\")"
   ]
  },
  {
   "cell_type": "code",
   "execution_count": 275,
   "metadata": {},
   "outputs": [],
   "source": [
    "fstr = my_clf.get_feature_importance()\n",
    "columns = list(data.loc[:, data.columns != target].columns)"
   ]
  },
  {
   "cell_type": "code",
   "execution_count": 287,
   "metadata": {},
   "outputs": [
    {
     "name": "stdout",
     "output_type": "stream",
     "text": [
      "Factors importance:\n",
      "factor idx = 2, name = pid, fstr = 34.41886418600341%\n",
      "factor idx = 3, name = int_corr, fstr = 13.234540781697918%\n",
      "factor idx = 14, name = exphappy, fstr = 8.95311136047613%\n",
      "factor idx = 8, name = imprace, fstr = 8.339605764814848%\n",
      "factor idx = 19, name = amb1_1, fstr = 6.300996793946875%\n",
      "factor idx = 5, name = age, fstr = 6.131386256598401%\n",
      "factor idx = 26, name = shar2_1, fstr = 5.8271723414553165%\n",
      "factor idx = 11, name = date, fstr = 5.815784710996867%\n",
      "factor idx = 0, name = iid, fstr = 5.533797104777522%\n",
      "factor idx = 17, name = intel1_1, fstr = 5.444740699232709%\n"
     ]
    }
   ],
   "source": [
    "f_idxs = list(fstr.keys())\n",
    "f_fstrs = [fstr[idx] for idx in f_idxs]\n",
    "\n",
    "idxs = np.argsort(f_fstrs)[::-1]\n",
    "\n",
    "print(\"Factors importance:\")\n",
    "for idx in idxs:\n",
    "    print(f\"factor idx = {f_idxs[idx]}\", end=', ')\n",
    "    print(f\"name = {columns[f_idxs[idx]]}\", end=', ')\n",
    "    print(f\"fstr = {f_fstrs[idx] * 100}%\" )"
   ]
  },
  {
   "cell_type": "markdown",
   "metadata": {},
   "source": [
    "## Фидбек (бесценно)"
   ]
  },
  {
   "cell_type": "markdown",
   "metadata": {},
   "source": [
    "* Какие аспекты обучения деревьев решений Вам показались непонятными? Какое место стоит дополнительно объяснить?"
   ]
  },
  {
   "cell_type": "markdown",
   "metadata": {},
   "source": [
    "Почему такие критерии действительно хорошо показывают разницу между распределениями. Энтропия - понятно,\n",
    "но вот Джини - не понимаю до конца"
   ]
  },
  {
   "cell_type": "markdown",
   "metadata": {},
   "source": [
    "### Ваш ответ здесь"
   ]
  },
  {
   "cell_type": "markdown",
   "metadata": {},
   "source": [
    "* Здесь Вы можете оставить отзыв о этой домашней работе или о всем курсе."
   ]
  },
  {
   "cell_type": "markdown",
   "metadata": {},
   "source": [
    "### ВАШ ОТЗЫВ ЗДЕСЬ\n",
    "\n"
   ]
  },
  {
   "cell_type": "code",
   "execution_count": null,
   "metadata": {
    "collapsed": true,
    "jupyter": {
     "outputs_hidden": true
    }
   },
   "outputs": [],
   "source": []
  },
  {
   "cell_type": "code",
   "execution_count": null,
   "metadata": {
    "collapsed": true,
    "jupyter": {
     "outputs_hidden": true
    }
   },
   "outputs": [],
   "source": []
  }
 ],
 "metadata": {
  "anaconda-cloud": {},
  "kernelspec": {
   "display_name": "Python 3 (ipykernel)",
   "language": "python",
   "name": "python3"
  },
  "language_info": {
   "codemirror_mode": {
    "name": "ipython",
    "version": 3
   },
   "file_extension": ".py",
   "mimetype": "text/x-python",
   "name": "python",
   "nbconvert_exporter": "python",
   "pygments_lexer": "ipython3",
   "version": "3.10.12"
  }
 },
 "nbformat": 4,
 "nbformat_minor": 4
}
