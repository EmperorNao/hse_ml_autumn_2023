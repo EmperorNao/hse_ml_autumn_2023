{
 "cells": [
  {
   "cell_type": "markdown",
   "metadata": {},
   "source": [
    "### Машинное обучение\n",
    "## Домашнее задание №3 - Градиентный бустинг"
   ]
  },
  {
   "cell_type": "markdown",
   "metadata": {},
   "source": [
    "**Общая информация**\n",
    "\n",
    "**Срок сдачи:** 5 декабря 2023, 23:59   \n",
    "**Штраф за опоздание:** -2 балла за каждые сутки\n",
    "\n",
    "Используйте данный Ipython Notebook при оформлении домашнего задания."
   ]
  },
  {
   "cell_type": "markdown",
   "metadata": {},
   "source": [
    "##  Считаем производные для функций потерь (1 балл)"
   ]
  },
  {
   "cell_type": "markdown",
   "metadata": {},
   "source": [
    "Мы будем реализовать градиентный бустинг для 3 функций потерь:\n",
    "\n",
    "1) MSE  $L(a(x_i), y_i) = (y_i - a(x_i)) ^ 2$\n",
    "\n",
    "2) Экспоненциальная  $L(a(x_i), y_i) = exp( -a(x_i) y_i), y_i \\in \\{-1, 1\\}$\n",
    "\n",
    "3) Логистическая  $L(a(x_i), y_i) = \\log (1 + exp( -a(x_i) y_i)), y_i \\in \\{-1, 1\\}$\n",
    "\n",
    "где $a(x_i)$ предсказание бустинга на итом объекте. \n",
    "\n",
    "Для каждой функции потерь напишите таргет, на который будет настраиваться каждое дерево в бустинге. "
   ]
  },
  {
   "cell_type": "markdown",
   "metadata": {},
   "source": [
    "1. MSE  \n",
    "$L = (y_i - a_i) ^ 2$  \n",
    "$\\frac{dL}{da_i} = -2 * a_i * (y_i - a_i)$\n",
    "\n",
    "\n",
    "2. Exponential  \n",
    "$L = e^{-a_i * y_i}$  \n",
    "$\\frac{dL}{da_i} = -y_i * e^{-a_i * y_i} = - \\frac{y_i}{e^{a_i * y_i}}$\n",
    "\n",
    "\n",
    "3. Logistic  \n",
    "$L = log(1 + e^{-a_i * y_i})$  \n",
    "$\\frac{dL}{da_i} = \\frac{-y_i * e^{-a_i * y_i}}{1 + e^{-a_i * y_i}} = - \\frac{y_i}{1 + e^{a_i * y_i}}$  "
   ]
  },
  {
   "cell_type": "markdown",
   "metadata": {},
   "source": [
    "##  Реализуем градиентный бустинг (3 балла)"
   ]
  },
  {
   "cell_type": "markdown",
   "metadata": {},
   "source": [
    "Реализуйте класс градиентного бустинга для классификации. Ваша реализация бустинга должна работать по точности не более чем на 5 процентов хуже чем GradientBoostingClassifier из sklearn. \n"
   ]
  },
  {
   "cell_type": "markdown",
   "metadata": {},
   "source": [
    "Детали реализации:\n",
    "\n",
    "-- должно поддерживаться 3 функции потерь\n",
    "\n",
    "-- сами базовые алгоритмы(деревья, линейные модели и тп) реализовать не надо, просто возьмите готовые из sklearn\n",
    "\n",
    "-- в качестве функции потерь для построения одного дерева используйте MSE\n",
    "\n",
    "-- шаг в бустинге можно не подбирать, можно брать константный\n",
    "\n",
    "-- можно брать разные модели в качестве инициализации бустинга\n",
    "\n",
    "-- должны поддерживаться следующие параметры:\n",
    "\n",
    "а) число итераций\n",
    "б) размер шага\n",
    "в) процент случайных фичей при построении одного дерева\n",
    "д) процент случайных объектов при построении одного дерева\n",
    "е) параметры базового алгоритма (передавайте через **kwargs)"
   ]
  },
  {
   "cell_type": "code",
   "execution_count": 1,
   "metadata": {
    "jupyter": {
     "outputs_hidden": true
    }
   },
   "outputs": [],
   "source": [
    "import numpy as np\n",
    "\n",
    "from sklearn.datasets import load_wine\n",
    "from sklearn.ensemble import GradientBoostingClassifier\n",
    "from sklearn.metrics import accuracy_score\n",
    "from sklearn.model_selection import train_test_split\n",
    "from sklearn.tree import DecisionTreeRegressor, DecisionTreeClassifier"
   ]
  },
  {
   "cell_type": "code",
   "execution_count": 2,
   "metadata": {},
   "outputs": [],
   "source": [
    "wine = load_wine()\n",
    "X_train, X_test, y_train, y_test = train_test_split(wine.data, wine.target, test_size=0.1, stratify=wine.target)"
   ]
  },
  {
   "cell_type": "code",
   "execution_count": 12,
   "metadata": {
    "jupyter": {
     "outputs_hidden": true
    }
   },
   "outputs": [],
   "source": [
    "class Ansemble:\n",
    "    \n",
    "    def __init__(self):\n",
    "        self.models = []\n",
    "        \n",
    "    def add_model(self, model, weight):\n",
    "        self.models.append((weight, model))\n",
    "    \n",
    "    def predict(self, X):\n",
    "        result = 0\n",
    "        for weight, model in self.models:\n",
    "            predict = model.predict(X)\n",
    "            if len(predict.shape) == 1:\n",
    "                predict = np.array([1 - predict, predict]).T\n",
    "            result += weight * predict\n",
    "        return result\n",
    "    \n",
    "    def __call__(self, X):\n",
    "        return self.predict(X)\n",
    "\n",
    "class ConstantModel:\n",
    "    \n",
    "    def __init__(self, c):\n",
    "        self.c = c\n",
    "    def predict(self, X):\n",
    "        return np.full((X.shape[0]), self.c)\n",
    "    \n",
    "def softmax(x):\n",
    "    \"\"\"Compute softmax values for each sets of scores in x.\"\"\"\n",
    "    e_x = np.exp(x - np.max(x))\n",
    "    return e_x / e_x.sum(axis=1, keepdims=True)\n",
    "\n",
    "\n",
    "class FewClassesTree:\n",
    "    \n",
    "    def __init__(self, trees, features=None):\n",
    "        self.trees = trees\n",
    "        self.features = features\n",
    "        \n",
    "    def predict(self, X):\n",
    "        X_sampled = X\n",
    "        if self.features is not None:\n",
    "            X_sampled = X[:, self.features]\n",
    "        predicts = []\n",
    "        for tree in self.trees:\n",
    "            predicts.append(tree.predict(X_sampled))\n",
    "        return np.array(predicts).T\n",
    "    \n",
    "\n",
    "class MyGradientBoostingClassifier:\n",
    "\n",
    "    def __init__(self, loss='mse', learning_rate=0.1, n_estimators=100, subsample=None, colsample=1.0, *args, **kwargs):\n",
    "        \"\"\"\n",
    "        loss -- один из 3 лоссов:\n",
    "        learning_rate -- шаг бустинга\n",
    "        n_estimators -- число итераций\n",
    "        colsample -- процент рандомных признаков при обучнеии одного алгоритма\n",
    "        colsample -- процент рандомных объектов при обучнеии одного алгоритма\n",
    "        args, kwargs -- параметры  базовых моделей\n",
    "        \"\"\"\n",
    "        \n",
    "        assert loss in ['mse', 'exponential', 'log_loss']\n",
    "        self.loss = loss\n",
    "        self.learning_rate = learning_rate\n",
    "        self.n_estimators = n_estimators\n",
    "        self.colsample = colsample\n",
    "        self.subsample = subsample\n",
    "        self.args = args\n",
    "        self.kwargs = kwargs\n",
    "        \n",
    "        self.final_model = None\n",
    "        self.classes = None\n",
    "        \n",
    "    def _grad(self, y_true, y_pred):\n",
    "        \n",
    "        if self.loss == 'mse':\n",
    "            return -2 * y_pred * (y_true - y_pred)\n",
    "        \n",
    "        if self.loss == 'exponential':\n",
    "            return -y_true / np.exp(y_true * y_pred)\n",
    "            \n",
    "        if self.loss == 'log_loss':\n",
    "            return -y_true / np.exp(1 + y_true * y_pred)\n",
    "    \n",
    "    def fit(self, X, y, base_model=DecisionTreeRegressor, init_model=None):\n",
    "        \"\"\"\n",
    "        X -- объекты для обучения:\n",
    "        y -- таргеты для обучения\n",
    "        base_model -- класс базовых моделей, например sklearn.tree.DecisionTreeRegressor\n",
    "        init_model -- класс для первой модели, если None то берем константу (только для посл задания)\n",
    "        \"\"\"\n",
    "            \n",
    "        self.classes, counts = np.unique(y, return_counts=True)\n",
    "        probas = counts / np.sum(counts)\n",
    "        \n",
    "        y_ohe = np.eye(len(self.classes))[y]\n",
    "        \n",
    "        self.final_model = Ansemble()\n",
    "        \n",
    "        if init_model is not None:\n",
    "            init_model.fit(X, y)\n",
    "            self.final_model.add_model(init_model, 1.0)\n",
    "            \n",
    "        else:\n",
    "            trees = []\n",
    "            for k in self.classes:\n",
    "                trees.append(ConstantModel(probas[k]))\n",
    "\n",
    "            self.final_model.add_model(FewClassesTree(trees), 1.0)\n",
    "        \n",
    "        if self.subsample:\n",
    "            n_subsamples = int(self.subsample * X.shape[0])        \n",
    "        n_colsamples = int(self.colsample * X.shape[1])\n",
    "        \n",
    "        last_outputs = self.final_model(X)\n",
    "        for n_iter in range(self.n_estimators):\n",
    "            antigrad = -self._grad(y_ohe, last_outputs)\n",
    "            \n",
    "            current_model = None\n",
    "            trees = []\n",
    "            \n",
    "            if self.subsample:\n",
    "                subsamples = np.random.choice(np.arange(X.shape[0]), size=n_subsamples, replace=True)\n",
    "            else:\n",
    "                subsamples = np.arange(X.shape[0])\n",
    "                \n",
    "            colsamples = np.random.choice(np.arange(X.shape[1]), size=n_colsamples, replace=False)\n",
    "            val, cnts = np.unique(subsamples, return_counts=True)\n",
    "            X_sampled = X[subsamples, :][:, colsamples]\n",
    "            y_sampled = antigrad[subsamples, :]\n",
    "            for k in self.classes:\n",
    "                \n",
    "                new_estimator = base_model(*self.args, **self.kwargs)\n",
    "                new_estimator.fit(X_sampled, y_sampled[:, k])\n",
    "                trees.append(new_estimator)\n",
    "            \n",
    "            current_model = FewClassesTree(trees, colsamples)\n",
    "            \n",
    "            weight = self.learning_rate\n",
    "            self.final_model.add_model(current_model, weight)\n",
    "            \n",
    "            last_outputs += weight * current_model.predict(X)\n",
    "        \n",
    "    def predict_proba(self, X):\n",
    "        assert self.final_model, \"MyGradientBoostingClassifier wasn't fitted\"\n",
    "        return softmax(self.final_model(X))\n",
    "    \n",
    "    def predict(self, X):\n",
    "        return np.argmax(self.predict_proba(X), axis=1)"
   ]
  },
  {
   "cell_type": "code",
   "execution_count": 13,
   "metadata": {},
   "outputs": [],
   "source": [
    "my_clf = MyGradientBoostingClassifier()\n",
    "clf = GradientBoostingClassifier()"
   ]
  },
  {
   "cell_type": "code",
   "execution_count": 14,
   "metadata": {
    "jupyter": {
     "outputs_hidden": true
    }
   },
   "outputs": [],
   "source": [
    "wine = load_wine()\n",
    "X_train, X_test, y_train, y_test = train_test_split(wine.data, wine.target, test_size=0.1, stratify=wine.target)"
   ]
  },
  {
   "cell_type": "code",
   "execution_count": 15,
   "metadata": {},
   "outputs": [
    {
     "name": "stdout",
     "output_type": "stream",
     "text": [
      "0.9444444444444444\n",
      "0.9444444444444444\n"
     ]
    }
   ],
   "source": [
    "my_clf.fit(X_train, y_train)\n",
    "clf.fit(X_train, y_train)\n",
    "print(accuracy_score(y_pred=clf.predict(X_test), y_true=y_test))\n",
    "print(accuracy_score(y_pred=my_clf.predict(X_test), y_true=y_test))"
   ]
  },
  {
   "cell_type": "markdown",
   "metadata": {},
   "source": [
    "## Подбираем параметры (2 балла)\n",
    "\n",
    "Давайте попробуем применить Ваш бустинг для предсказаний цены домов в Калифорнии. Чтобы можно было попробовтаь разные функции потерь, переведем по порогу таргет в 2 класса: дорогие и дешевые дома."
   ]
  },
  {
   "cell_type": "markdown",
   "metadata": {},
   "source": [
    "В задании нужно\n",
    "\n",
    "1) Построить график точности в зависимости от числа итераций на валидации.\n",
    "\n",
    "2) Подобрать оптимальные параметры Вашего бустинга на валидации. \n"
   ]
  },
  {
   "cell_type": "code",
   "execution_count": 16,
   "metadata": {},
   "outputs": [],
   "source": [
    "from sklearn.datasets import fetch_california_housing\n",
    "X, y = fetch_california_housing(return_X_y=True)"
   ]
  },
  {
   "cell_type": "code",
   "execution_count": 17,
   "metadata": {},
   "outputs": [
    {
     "name": "stdout",
     "output_type": "stream",
     "text": [
      "(20640, 8) (20640,)\n"
     ]
    }
   ],
   "source": [
    "# Превращаем регрессию в классификацию\n",
    "y = (y > 2.0).astype(int)\n",
    "print(X.shape, y.shape)"
   ]
  },
  {
   "cell_type": "code",
   "execution_count": 18,
   "metadata": {
    "jupyter": {
     "outputs_hidden": true
    }
   },
   "outputs": [],
   "source": [
    "X_train, X_val, y_train, y_val = train_test_split(X, y, test_size=0.2, stratify=y)"
   ]
  },
  {
   "cell_type": "code",
   "execution_count": 19,
   "metadata": {},
   "outputs": [],
   "source": [
    "from sklearn.metrics import accuracy_score\n",
    "from tqdm import tqdm"
   ]
  },
  {
   "cell_type": "code",
   "execution_count": 12,
   "metadata": {},
   "outputs": [
    {
     "name": "stderr",
     "output_type": "stream",
     "text": [
      "100%|█████████████████████████████████████████████| 5/5 [01:52<00:00, 22.60s/it]\n"
     ]
    }
   ],
   "source": [
    "metrics = {'train': [], 'val': [], 'n_estim': []}\n",
    "\n",
    "for n_estim in tqdm([1, 10, 50, 100, 250]):\n",
    "    my_clf = MyGradientBoostingClassifier(n_estimators=n_estim)\n",
    "    my_clf.fit(X_train, y_train)\n",
    "    \n",
    "    metrics['n_estim'].append(n_estim)\n",
    "    metrics['train'].append(accuracy_score(y_true=y_train, y_pred=my_clf.predict(X_train)))\n",
    "    metrics['val'].append(accuracy_score(y_true=y_val, y_pred=my_clf.predict(X_val)))"
   ]
  },
  {
   "cell_type": "code",
   "execution_count": 13,
   "metadata": {},
   "outputs": [
    {
     "data": {
      "image/png": "[encoded data removed]",
      "text/plain": [
       "<Figure size 720x1080 with 1 Axes>"
      ]
     },
     "metadata": {
      "needs_background": "light"
     },
     "output_type": "display_data"
    }
   ],
   "source": [
    "import matplotlib.pyplot as plt\n",
    "\n",
    "plt.figure(figsize=(10, 15))\n",
    "plt.title(\"Accuracy by iter\")\n",
    "plt.xlabel(\"n_estimators\")\n",
    "plt.ylabel(\"accuracy\")\n",
    "plt.plot(metrics['n_estim'], metrics['train'], label='Train')\n",
    "plt.plot(metrics['n_estim'], metrics['val'], label='Val')\n",
    "plt.legend()\n",
    "plt.show()"
   ]
  },
  {
   "cell_type": "code",
   "execution_count": 44,
   "metadata": {},
   "outputs": [
    {
     "name": "stdout",
     "output_type": "stream",
     "text": [
      "Params: loss = mse, lr = 1, max_depth = 3\n"
     ]
    },
    {
     "name": "stderr",
     "output_type": "stream",
     "text": [
      "/tmp/ipykernel_298856/2947093488.py:74: RuntimeWarning: overflow encountered in multiply\n",
      "  return -2 * y_pred * (y_true - y_pred)\n"
     ]
    },
    {
     "name": "stdout",
     "output_type": "stream",
     "text": [
      "skip: Input y contains infinity or a value too large for dtype('float64').\n",
      "Params: loss = mse, lr = 1, max_depth = 6\n"
     ]
    },
    {
     "name": "stderr",
     "output_type": "stream",
     "text": [
      "/tmp/ipykernel_298856/2947093488.py:74: RuntimeWarning: overflow encountered in multiply\n",
      "  return -2 * y_pred * (y_true - y_pred)\n"
     ]
    },
    {
     "name": "stdout",
     "output_type": "stream",
     "text": [
      "skip: Input y contains infinity or a value too large for dtype('float64').\n",
      "Params: loss = mse, lr = 1, max_depth = 10\n"
     ]
    },
    {
     "name": "stderr",
     "output_type": "stream",
     "text": [
      "/tmp/ipykernel_298856/2947093488.py:74: RuntimeWarning: overflow encountered in multiply\n",
      "  return -2 * y_pred * (y_true - y_pred)\n"
     ]
    },
    {
     "name": "stdout",
     "output_type": "stream",
     "text": [
      "skip: Input y contains infinity or a value too large for dtype('float64').\n",
      "Params: loss = mse, lr = 0.1, max_depth = 3\n",
      "Train acc: 0.8863250968992248\n",
      "Val acc: 0.8844476744186046\n",
      "Params: loss = mse, lr = 0.1, max_depth = 6\n",
      "Train acc: 0.9385901162790697\n",
      "Val acc: 0.8989825581395349\n",
      "Params: loss = mse, lr = 0.1, max_depth = 10\n",
      "Train acc: 0.9983648255813954\n",
      "Val acc: 0.9026162790697675\n",
      "Params: loss = mse, lr = 0.01, max_depth = 3\n",
      "Train acc: 0.8231589147286822\n",
      "Val acc: 0.8304263565891473\n",
      "Params: loss = mse, lr = 0.01, max_depth = 6\n",
      "Train acc: 0.8815406976744186\n",
      "Val acc: 0.8757267441860465\n",
      "Params: loss = mse, lr = 0.01, max_depth = 10\n",
      "Train acc: 0.9522165697674418\n",
      "Val acc: 0.8900193798449613\n",
      "Params: loss = log_loss, lr = 1, max_depth = 3\n",
      "Train acc: 0.8462330426356589\n",
      "Val acc: 0.8524709302325582\n",
      "Params: loss = log_loss, lr = 1, max_depth = 6\n",
      "Train acc: 0.8886264534883721\n",
      "Val acc: 0.8810562015503876\n",
      "Params: loss = log_loss, lr = 1, max_depth = 10\n",
      "Train acc: 0.9609375\n",
      "Val acc: 0.8968023255813954\n",
      "Params: loss = log_loss, lr = 0.1, max_depth = 3\n",
      "Train acc: 0.8171632751937985\n",
      "Val acc: 0.8224321705426356\n",
      "Params: loss = log_loss, lr = 0.1, max_depth = 6\n",
      "Train acc: 0.8731225775193798\n",
      "Val acc: 0.8708817829457365\n",
      "Params: loss = log_loss, lr = 0.1, max_depth = 10\n",
      "Train acc: 0.9439801356589147\n",
      "Val acc: 0.8880813953488372\n",
      "Params: loss = log_loss, lr = 0.01, max_depth = 3\n",
      "Train acc: 0.6587330426356589\n",
      "Val acc: 0.657218992248062\n",
      "Params: loss = log_loss, lr = 0.01, max_depth = 6\n",
      "Train acc: 0.7059714147286822\n",
      "Val acc: 0.6981589147286822\n",
      "Params: loss = log_loss, lr = 0.01, max_depth = 10\n",
      "Train acc: 0.7780402131782945\n",
      "Val acc: 0.7449127906976745\n",
      "Params: loss = exponential, lr = 1, max_depth = 3\n",
      "Train acc: 0.8513202519379846\n",
      "Val acc: 0.8585271317829457\n",
      "Params: loss = exponential, lr = 1, max_depth = 6\n",
      "Train acc: 0.8949249031007752\n",
      "Val acc: 0.8866279069767442\n",
      "Params: loss = exponential, lr = 1, max_depth = 10\n",
      "Train acc: 0.9649345930232558\n",
      "Val acc: 0.8905038759689923\n",
      "Params: loss = exponential, lr = 0.1, max_depth = 3\n",
      "Train acc: 0.829578488372093\n",
      "Val acc: 0.8391472868217055\n",
      "Params: loss = exponential, lr = 0.1, max_depth = 6\n",
      "Train acc: 0.880390019379845\n",
      "Val acc: 0.8757267441860465\n",
      "Params: loss = exponential, lr = 0.1, max_depth = 10\n",
      "Train acc: 0.9527616279069767\n",
      "Val acc: 0.8914728682170543\n",
      "Params: loss = exponential, lr = 0.01, max_depth = 3\n",
      "Train acc: 0.7678657945736435\n",
      "Val acc: 0.7718023255813954\n",
      "Params: loss = exponential, lr = 0.01, max_depth = 6\n",
      "Train acc: 0.8467175387596899\n",
      "Val acc: 0.841812015503876\n",
      "Params: loss = exponential, lr = 0.01, max_depth = 10\n",
      "Train acc: 0.9166666666666666\n",
      "Val acc: 0.8728197674418605\n"
     ]
    }
   ],
   "source": [
    "## Не наследуемся от склерновского класса, поэтому GridSearch не заходит\n",
    "\n",
    "for loss in ['mse', 'log_loss', 'exponential']:\n",
    "    for lr in [1, 0.1, 0.01]:\n",
    "        for max_depth in [3, 6, 10]:\n",
    "            print(f\"Params: loss = {loss}, lr = {lr}, max_depth = {max_depth}\")  \n",
    "            try:\n",
    "                model = MyGradientBoostingClassifier(loss, lr, max_depth=max_depth)\n",
    "                model.fit(X_train, y_train)\n",
    "                print(f\"Train acc: {accuracy_score(y_true=y_train, y_pred=model.predict(X_train))}\")\n",
    "                print(f\"Val acc: {accuracy_score(y_true=y_val, y_pred=model.predict(X_val))}\")                            \n",
    "            except Exception as e:\n",
    "                print(f\"skip: {e}\")\n",
    "#             model = GradientBoostingClassifier(loss=loss, learning_rate=lr)"
   ]
  },
  {
   "cell_type": "markdown",
   "metadata": {},
   "source": [
    "Лучше параметры - loss = mse, lr = 0.1, max_depth = 10"
   ]
  },
  {
   "cell_type": "markdown",
   "metadata": {},
   "source": [
    "Лучший скор = 0.9026162790697675"
   ]
  },
  {
   "cell_type": "markdown",
   "metadata": {},
   "source": [
    "## BooBag BagBoo (1 балл)\n",
    "\n"
   ]
  },
  {
   "cell_type": "markdown",
   "metadata": {},
   "source": [
    "Попробуем объединить бустинг и бэгинг. Давайте\n",
    "\n",
    "1) в качестве базовой модели брать не дерево решений, а случайный лес (из sklearn)\n",
    "\n",
    "2) обучать N бустингов на бустрапированной выборке, а затем предикт усреднять"
   ]
  },
  {
   "cell_type": "markdown",
   "metadata": {},
   "source": [
    "Попробуйте обе этих стратегии на данных из прошлого задания. Получилось ли улучшить качество? Почему?"
   ]
  },
  {
   "cell_type": "markdown",
   "metadata": {},
   "source": [
    "### 1"
   ]
  },
  {
   "cell_type": "code",
   "execution_count": 21,
   "metadata": {},
   "outputs": [],
   "source": [
    "from sklearn.ensemble import RandomForestRegressor"
   ]
  },
  {
   "cell_type": "code",
   "execution_count": 22,
   "metadata": {
    "jupyter": {
     "outputs_hidden": true
    }
   },
   "outputs": [
    {
     "name": "stdout",
     "output_type": "stream",
     "text": [
      "Train acc: 0.5780644379844961\n",
      "Val acc: 0.5780038759689923\n"
     ]
    }
   ],
   "source": [
    "\n",
    "model = MyGradientBoostingClassifier('mse', 0.001, 10)\n",
    "model.fit(X_train, y_train, RandomForestRegressor)\n",
    "\n",
    "print(f\"Train acc: {accuracy_score(y_true=y_train, y_pred=model.predict(X_train))}\")\n",
    "print(f\"Val acc: {accuracy_score(y_true=y_val, y_pred=model.predict(X_val))}\")               "
   ]
  },
  {
   "cell_type": "markdown",
   "metadata": {},
   "source": [
    "Итоговые метрики c MSE не улучшаются, при этом антиградиент изначально маленький и растёт, даже с маленьким lr - значит мы ухудшаем предсказания новыми моделями, потому что базовая модель итак очень хорошая."
   ]
  },
  {
   "cell_type": "code",
   "execution_count": 54,
   "metadata": {},
   "outputs": [
    {
     "name": "stdout",
     "output_type": "stream",
     "text": [
      "[0.11929756 0.10179053]\n",
      "[0.09866147 0.08212182]\n",
      "[0.08442708 0.06914598]\n",
      "[0.07455437 0.0605479 ]\n",
      "[0.0666824  0.05378499]\n",
      "[0.06007948 0.04812594]\n",
      "[0.05481836 0.04372027]\n",
      "[0.05026897 0.03994025]\n",
      "[0.04666131 0.03695833]\n",
      "[0.04349653 0.03438683]\n",
      "[0.04072631 0.03215391]\n",
      "[0.0382805  0.03016895]\n",
      "[0.03610332 0.02840562]\n",
      "[0.03411075 0.02678446]\n",
      "[0.03239784 0.02543004]\n",
      "[0.03083575 0.02418604]\n",
      "[0.02938004 0.02302049]\n",
      "[0.02812169 0.02203289]\n",
      "[0.02694169 0.02110211]\n",
      "[0.02585592 0.02025136]\n",
      "Train acc: 0.9986676356589147\n",
      "Val acc: 0.8982558139534884\n"
     ]
    }
   ],
   "source": [
    "\n",
    "model = MyGradientBoostingClassifier('log_loss', 1, 20)\n",
    "model.fit(X_train, y_train, RandomForestRegressor)\n",
    "\n",
    "print(f\"Train acc: {accuracy_score(y_true=y_train, y_pred=model.predict(X_train))}\")\n",
    "print(f\"Val acc: {accuracy_score(y_true=y_val, y_pred=model.predict(X_val))}\")               "
   ]
  },
  {
   "cell_type": "markdown",
   "metadata": {},
   "source": [
    "Для log_loss антиградиент падает, но при этом итоговые метрики улучшаются совсем немного"
   ]
  },
  {
   "cell_type": "markdown",
   "metadata": {
    "collapsed": true,
    "jupyter": {
     "outputs_hidden": true
    }
   },
   "source": [
    "### 2"
   ]
  },
  {
   "cell_type": "code",
   "execution_count": 29,
   "metadata": {},
   "outputs": [
    {
     "name": "stdout",
     "output_type": "stream",
     "text": [
      "Train acc: 0.998062015503876\n",
      "Val acc: 0.8929263565891473\n",
      "Train acc: 0.9976986434108527\n",
      "Val acc: 0.8951065891472868\n",
      "Train acc: 0.9977592054263565\n",
      "Val acc: 0.8934108527131783\n",
      "Train acc: 0.9980014534883721\n",
      "Val acc: 0.8914728682170543\n",
      "Train acc: 0.9976986434108527\n",
      "Val acc: 0.8902616279069767\n",
      "Ansemble metrics:\n",
      "Train acc: 0.9986070736434108\n",
      "Val acc: 0.8943798449612403\n"
     ]
    }
   ],
   "source": [
    "ansemble = Ansemble()\n",
    "\n",
    "nmodels = 5\n",
    "for _ in range(nmodels):\n",
    "    model = MyGradientBoostingClassifier('mse', 0.1, subsample=1.0, max_depth = 10)\n",
    "    model.fit(X_train, y_train)\n",
    "\n",
    "    print(f\"Train acc: {accuracy_score(y_true=y_train, y_pred=model.predict(X_train))}\")\n",
    "    print(f\"Val acc: {accuracy_score(y_true=y_val, y_pred=model.predict(X_val))}\")               \n",
    "    \n",
    "    ansemble.add_model(model, 1.0 / nmodels)   \n",
    "    \n",
    "print(\"Ansemble metrics:\")\n",
    "print(f\"Train acc: {accuracy_score(y_true=y_train, y_pred=(ansemble.predict(X_train)[:, 1] > 0.5).astype(int))}\")\n",
    "print(f\"Val acc: {accuracy_score(y_true=y_val, y_pred=(ansemble.predict(X_val)[:, 1] > 0.5).astype(int))}\")     "
   ]
  },
  {
   "cell_type": "markdown",
   "metadata": {},
   "source": [
    "Для MSE метрики не улучшаются"
   ]
  },
  {
   "cell_type": "code",
   "execution_count": 33,
   "metadata": {},
   "outputs": [
    {
     "name": "stdout",
     "output_type": "stream",
     "text": [
      "Train acc: 0.9543968023255814\n",
      "Val acc: 0.8844476744186046\n",
      "Train acc: 0.9538517441860465\n",
      "Val acc: 0.8793604651162791\n",
      "Train acc: 0.9547601744186046\n",
      "Val acc: 0.8808139534883721\n",
      "Train acc: 0.9530038759689923\n",
      "Val acc: 0.8781492248062015\n",
      "Train acc: 0.9524588178294574\n",
      "Val acc: 0.8822674418604651\n",
      "Ansemble metrics:\n",
      "Train acc: 0.9544573643410853\n",
      "Val acc: 0.8798449612403101\n"
     ]
    }
   ],
   "source": [
    "ansemble = Ansemble()\n",
    "\n",
    "nmodels = 5\n",
    "for _ in range(nmodels):\n",
    "    model = MyGradientBoostingClassifier('log_loss', 1, 100, subsample=1.0, max_depth = 10)\n",
    "    model.fit(X_train, y_train)\n",
    "\n",
    "    print(f\"Train acc: {accuracy_score(y_true=y_train, y_pred=model.predict(X_train))}\")\n",
    "    print(f\"Val acc: {accuracy_score(y_true=y_val, y_pred=model.predict(X_val))}\")               \n",
    "    \n",
    "    ansemble.add_model(model, 1.0 / nmodels)   \n",
    "    \n",
    "print(\"Ansemble metrics:\")\n",
    "print(f\"Train acc: {accuracy_score(y_true=y_train, y_pred=(ansemble.predict(X_train)[:, 1] > 0.5).astype(int))}\")\n",
    "print(f\"Val acc: {accuracy_score(y_true=y_val, y_pred=(ansemble.predict(X_val)[:, 1] > 0.5).astype(int))}\")     "
   ]
  },
  {
   "cell_type": "markdown",
   "metadata": {},
   "source": [
    "Для log_loss метрики также не улучшаются"
   ]
  },
  {
   "cell_type": "markdown",
   "metadata": {
    "collapsed": true,
    "jupyter": {
     "outputs_hidden": true
    }
   },
   "source": [
    "## Умная инициализация (1 балл)\n",
    "\n",
    "Попробуйте брать в качестве инициализации бустинга не константу, а какой-то алгоритм и уже от его предикта стартовать итерации бустинга. Попробуйте разные модели из sklearn: линейные модели, рандом форест, svm..\n",
    "\n",
    "Получилось ли улучшить качество? Почему?\n",
    "\n"
   ]
  },
  {
   "cell_type": "code",
   "execution_count": 81,
   "metadata": {},
   "outputs": [],
   "source": [
    "from sklearn.linear_model import LogisticRegression"
   ]
  },
  {
   "cell_type": "code",
   "execution_count": 104,
   "metadata": {},
   "outputs": [],
   "source": [
    "from sklearn.linear_model import LogisticRegression, LinearRegression\n",
    "from sklearn.ensemble import RandomForestClassifier, RandomForestRegressor\n",
    "from sklearn.svm import SVR, SVC"
   ]
  },
  {
   "cell_type": "code",
   "execution_count": 112,
   "metadata": {
    "jupyter": {
     "outputs_hidden": true
    }
   },
   "outputs": [
    {
     "name": "stdout",
     "output_type": "stream",
     "text": [
      "Init model: <class 'sklearn.linear_model._base.LinearRegression'>\n"
     ]
    },
    {
     "name": "stderr",
     "output_type": "stream",
     "text": [
      "/tmp/ipykernel_298856/3755535427.py:77: RuntimeWarning: overflow encountered in multiply\n",
      "  return -2 * y_pred * (y_true - y_pred)\n"
     ]
    },
    {
     "name": "stdout",
     "output_type": "stream",
     "text": [
      "exception: Input y contains infinity or a value too large for dtype('float64').\n",
      "Init model: <class 'sklearn.ensemble._forest.RandomForestRegressor'>\n",
      "Train acc: 1.0\n",
      "Val acc: 0.8909883720930233\n",
      "Init model: <class 'sklearn.svm._classes.SVR'>\n",
      "Train acc: 0.8634932170542635\n",
      "Val acc: 0.8197674418604651\n"
     ]
    }
   ],
   "source": [
    "for init_model in [LinearRegression, RandomForestRegressor, SVR]:\n",
    "    print(f\"Init model: {init_model}\")\n",
    "    try:\n",
    "        model = MyGradientBoostingClassifier('mse', 0.01, max_depth = 10)\n",
    "        model.fit(X_train, y_train, init_model=init_model())\n",
    "\n",
    "        print(f\"Train acc: {accuracy_score(y_true=y_train, y_pred=model.predict(X_train))}\")\n",
    "        print(f\"Val acc: {accuracy_score(y_true=y_val, y_pred=model.predict(X_val))}\")               \n",
    "    except Exception as e:\n",
    "        print(f\"exception: {e}\")"
   ]
  },
  {
   "cell_type": "markdown",
   "metadata": {
    "jupyter": {
     "outputs_hidden": true
    }
   },
   "source": [
    "Почему-то не получается улучшить качество. Может быть, требуется более качественная настройка каждого из базовых алгоритмов"
   ]
  },
  {
   "cell_type": "markdown",
   "metadata": {},
   "source": [
    "## Фидбек (бесценно)"
   ]
  },
  {
   "cell_type": "markdown",
   "metadata": {},
   "source": [
    "* Какие аспекты обучения  ансамблей Вам показались непонятными? Какое место стоит дополнительно объяснить?"
   ]
  },
  {
   "cell_type": "markdown",
   "metadata": {},
   "source": [
    "На лекции ничего не разбиралось про многоклассовую классификацию в бустинге, вообще ни слова - пришлось читать sklearn и разбираться самому. Прикольно, решение логичное, но можно было хотя бы вкратце описать алгоритм, чтобы было не так непонятно в начале"
   ]
  }
 ],
 "metadata": {
  "anaconda-cloud": {},
  "kernelspec": {
   "display_name": "Python 3 (ipykernel)",
   "language": "python",
   "name": "python3"
  },
  "language_info": {
   "codemirror_mode": {
    "name": "ipython",
    "version": 3
   },
   "file_extension": ".py",
   "mimetype": "text/x-python",
   "name": "python",
   "nbconvert_exporter": "python",
   "pygments_lexer": "ipython3",
   "version": "3.10.12"
  }
 },
 "nbformat": 4,
 "nbformat_minor": 4
}
